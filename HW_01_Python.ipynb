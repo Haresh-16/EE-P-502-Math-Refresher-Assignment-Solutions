{
  "cells": [
    {
      "cell_type": "markdown",
      "metadata": {
        "ExecuteTime": {
          "end_time": "2019-09-24T16:05:23.746666Z",
          "start_time": "2019-09-24T16:05:23.741461Z"
        },
        "id": "JByqucWxbsX2"
      },
      "source": [
        "EE 502 P: Analytical Methods for Electrical Engineering\n",
        "    \n",
        "# Homework 1: Python Setup\n",
        "## Due October 8, 2023 by 11:59 PM\n",
        "### <span style=\"color: red\">HARESH INDRAJIT</span>\n",
        "\n",
        "Copyright &copy; 2023, University of Washington\n",
        "\n",
        "<hr>\n",
        "\n",
        "**Instructions**: Please use this notebook as a template. Answer all questions using well formatted Markdown with embedded LaTeX equations, executable Jupyter cells, or both. Submit your homework solutions as an `.ipynb` file via Canvas.\n",
        "\n",
        "<span style=\"color: red'\">\n",
        "Although you may discuss the homework with others, you must turn in your own, original work.\n",
        "</span>\n",
        "\n",
        "**Things to remember:**\n",
        "- Use complete sentences. Equations should appear in text as grammatical elements.\n",
        "- Comment your code.\n",
        "- Label your axes. Title your plots. Use legends where appropriate.\n",
        "- Before submitting a notebook, choose Kernel -> Restart and Run All to make sure your notebook runs when the cells are evaluated in order.\n",
        "\n",
        "Note : Late homework will be accepted up to one week after the due date and will be worth 50% of its full credit score."
      ]
    },
    {
      "cell_type": "markdown",
      "metadata": {
        "id": "TSoK5lCJbsX8"
      },
      "source": [
        "### 1. Complex Numbers\n",
        "Write a function `rand_complex(n)` that returns a list of `n` random complex numbers uniformly distributed in the unit circle (i.e., the magnitudes of the numbers are all between 0 and 1). Give the function a docstring. Demonstrate the function by making a list of 25 complex numbers."
      ]
    },
    {
      "cell_type": "markdown",
      "metadata": {},
      "source": [
        "## Problem 1 Solution's Approach:\n",
        "\n",
        "<b>Note: Google's Bard was used to generate Markdown code for math equations.</b><br>\n",
        "<b>Note: Used Math StackExchange to learn about the usage of Euler's identity to represent complex numbers.</b>\n",
        "\n",
        "<i>1. Firstly, generate a random complex number with magnitude between 0 and 1 using <b>random</b> module.</i> <br>\n",
        "<i>2. Secondly, move by $2 * \\pi / 25$ along the arc of the circle in the clockwise direction and find a new complex number there.</i><br>\n",
        "<i>3. Step 2 is followed until n complex numbers are found equally spaced along the unit circle.</i><br>\n",
        "<i>4. This is going to give complex numbers who general form is $e^{i\\theta} = \\cos(\\theta) + i\\sin(\\theta)$ spread uniformly on the unit circle.</i><br>\n",
        "<i>5. A separate function is used called after each rendition of a complex number to make sure that the complex number's magnitude is between 0 and 1.</i><br>\n",
        "<i>6. Plot it on the unit circle using matplotlib to visualise the results.</i>"
      ]
    },
    {
      "cell_type": "code",
      "execution_count": 12,
      "metadata": {},
      "outputs": [],
      "source": [
        "import random # To generate pseudo-random real and imaginary parts of the complex number!\n",
        "import math # For the calculation of the absolute value of the complex number\n",
        "import fractions # To generate possible values of magnitude of complex numbers\n",
        "import numpy as np # To hold complex numbers to plot on unit circle\n",
        "\n",
        "pi = 3.14 # Since, random.randrange() in-built function is utilised, I have made the design choice of terminating the value of pi to 3.14\n",
        "\n",
        "class complex_num():\n",
        "    def __init__(self):\n",
        "        \"\"\"\n",
        "        args:\n",
        "            theta - Randomly generated integer denoting the angle the complex number makes with the x-axis of the Argand plane.\n",
        "        \"\"\"\n",
        "        self.theta = random.uniform(0, pi*2)\n",
        "        self.r = random.random()\n",
        "\n",
        "\n",
        "    def new_com_num(self,theta,n):\n",
        "        \"\"\"\n",
        "        args:\n",
        "            theta          - Angle made by the preceding complex number with the x-axis of the Argand plane.\n",
        "            n              - Desired number of complex numbers\n",
        "        Returns:\n",
        "            new_com_num    - Following complex number in the anti-clockwise direction\n",
        "            new theta      - Updated angle\n",
        "        \"\"\"\n",
        "        self.r = random.random()\n",
        "        return [[self.r*math.cos(theta + 2*pi/n), self.r*math.sin(theta + 2*pi/n)], theta + 2*pi/n]\n",
        "    \n",
        "    def mag_check(self,com_num): # Redundant functionality, because the roots of unity in the form of Euler's identity has been utilised already!\n",
        "        \"\"\"\n",
        "        args:\n",
        "            num - Complex number whose value should be ensured to be between 0 and 1\n",
        "        Returns:\n",
        "            Boolean - True (When num's magnitude is within range), False (When num's magnitude is out of range)\n",
        "        \"\"\"\n",
        "\n",
        "        #Generating all rational numbers between 0 and 1, to make sure the value of the generated complex number gets covered in it!        \n",
        "\n",
        "        if(0<math.sqrt(math.pow(com_num[0][0],2) + math.pow(com_num[0][1],2))<1):\n",
        "            return True # Signifies that the complex number fed to the function is the desired one!\n",
        "        return False # Defaults to undesired complex number\n",
        "\n",
        "def rand_complex(n):\n",
        "        \"\"\"\n",
        "        args:\n",
        "            n - Number of complex numbers that are needed to be generated\n",
        "        \n",
        "        Returns:\n",
        "            list - List of n complex numbers with the desired specifications.   \n",
        "        \"\"\"\n",
        "\n",
        "        #Angle between equally spaced complex numbers on the unit circle!\n",
        "        \n",
        "        complex_numbers_list = []\n",
        "\n",
        "        utility_obj = complex_num()\n",
        "        initial_theta = utility_obj.theta\n",
        "        com_num = [utility_obj.r*math.cos(initial_theta), utility_obj.r*math.sin(initial_theta)]\n",
        "        empty_list = []\n",
        "        empty_list.append(com_num)\n",
        "        empty_list.append(initial_theta)\n",
        "        while(utility_obj.mag_check(empty_list)==False): # loop has to run as long as complex number has value beyond 1.\n",
        "            utility_obj = complex_num()\n",
        "            initial_theta = utility_obj.theta\n",
        "            com_num = [math.cos(initial_theta), math.sin(initial_theta)]\n",
        "            empty_list = []\n",
        "            empty_list.append(com_num)\n",
        "            empty_list.append(initial_theta)\n",
        "        \n",
        "        complex_numbers_list.append(empty_list)\n",
        "\n",
        "        counter = 0\n",
        "        new_theta = initial_theta\n",
        "        for i in range(n-1):\n",
        "            if(counter==0):\n",
        "                ss_com_num=utility_obj.new_com_num(new_theta, n)\n",
        "                while(utility_obj.mag_check(ss_com_num)==False):\n",
        "                    ss_com_num=utility_obj.new_com_num(new_theta, n)\n",
        "                complex_numbers_list.append(ss_com_num)\n",
        "                counter+=1\n",
        "            else:\n",
        "                ss_com_num=utility_obj.new_com_num(new_theta, n)\n",
        "                while(utility_obj.mag_check(ss_com_num)==False):\n",
        "                    ss_com_num=utility_obj.new_com_num(new_theta, n)\n",
        "                complex_numbers_list.append(ss_com_num)\n",
        "            new_theta=utility_obj.new_com_num(utility_obj.theta, n)[1] # Switching to the new complex number to move anti-clockwise on the unit circle!\n",
        "            utility_obj.theta = new_theta\n",
        "                \n",
        "        #For plotting on the circle!\n",
        "        circle_points = []\n",
        "        for i in range(n):\n",
        "            circle_points.append(complex(complex_numbers_list[i][0][0],complex_numbers_list[i][0][1]))\n",
        "        circle_points = np.array(circle_points) # List to numpy array typecasting!\n",
        "        \n",
        "        return circle_points #End result, used to plot them on the circle as well!"
      ]
    },
    {
      "cell_type": "code",
      "execution_count": 13,
      "metadata": {},
      "outputs": [
        {
          "name": "stdout",
          "output_type": "stream",
          "text": [
            "The generated complex numbers are: \n",
            "\n",
            "\n",
            "1 . (-0.04965979808862409+0.2452750744818373j)\n",
            "\n",
            "\n",
            "2 . (-0.05266662275707458+0.1087600116118307j)\n",
            "\n",
            "\n",
            "3 . (-0.33786022491116574+0.39936353869608854j)\n",
            "\n",
            "\n",
            "4 . (-0.07500692598392372+0.05325774977627668j)\n",
            "\n",
            "\n",
            "5 . (-0.29305026989607247+0.11239458585909076j)\n",
            "\n",
            "\n",
            "6 . (-0.6371975994573008+0.07362248917028931j)\n",
            "\n",
            "\n",
            "7 . (-0.25999742155885613-0.035624042736425526j)\n",
            "\n",
            "\n",
            "8 . (-0.8692387064831865-0.35463434109724334j)\n",
            "\n",
            "\n",
            "9 . (-0.40107644402768017-0.2977278379485872j)\n",
            "\n",
            "\n",
            "10 . (-0.06293634767295979-0.07766449370470986j)\n",
            "\n",
            "\n",
            "11 . (-0.10473787012163334-0.2284797520866203j)\n",
            "\n",
            "\n",
            "12 . (-0.020768156630254705-0.11502605960525063j)\n",
            "\n",
            "\n",
            "13 . (0.01561538084930472-0.21479098774753266j)\n",
            "\n",
            "\n",
            "14 . (0.2753215885886211-0.8204309891653976j)\n",
            "\n",
            "\n",
            "15 . (0.35057646928294317-0.5410074785785018j)\n",
            "\n",
            "\n",
            "16 . (0.5257516321736625-0.48453484839568695j)\n",
            "\n",
            "\n",
            "17 . (0.6366415089932749-0.34238191874979357j)\n",
            "\n",
            "\n",
            "18 . (0.05534586604534648-0.013674569121308346j)\n",
            "\n",
            "\n",
            "19 . (0.8153021522133357+0.007318633882750814j)\n",
            "\n",
            "\n",
            "20 . (0.7797237780784585+0.2075705634296089j)\n",
            "\n",
            "\n",
            "21 . (0.41853928497779336+0.2348704743313611j)\n",
            "\n",
            "\n",
            "22 . (0.009024250243157023+0.008621472909385012j)\n",
            "\n",
            "\n",
            "23 . (0.08531693117092286+0.13698799520691152j)\n",
            "\n",
            "\n",
            "24 . (0.13155013660347198+0.4166608869780568j)\n",
            "\n",
            "\n",
            "25 . (0.042534482563631744+0.7779603396013138j)\n"
          ]
        },
        {
          "data": {
            "image/png": "[encoded data removed]",
            "text/plain": [
              "<Figure size 432x288 with 1 Axes>"
            ]
          },
          "metadata": {
            "needs_background": "light"
          },
          "output_type": "display_data"
        }
      ],
      "source": [
        "#Printing the complex number generated!\n",
        "result = rand_complex(25)\n",
        "print(\"The generated complex numbers are: \")\n",
        "for i,com_num in enumerate(result):\n",
        "    print(\"\\n\")\n",
        "    print(i+1,\".\",com_num)\n",
        "\n",
        "#Plotting the complex numbers on a circle!\n",
        "import matplotlib.pyplot as plt\n",
        "for x in range(len(result)):\n",
        "    plt.plot([0,result[x].real],[0,result[x].imag],'ro-',label='python')\n",
        "limit=np.max(np.ceil(np.absolute(result))) # set limits for axis\n",
        "plt.title(\"Visualisation of the generated complex numbers\")\n",
        "plt.xlim((-limit,limit))\n",
        "plt.ylim((-limit,limit))\n",
        "plt.ylabel('Imaginary')\n",
        "plt.xlabel('Real')\n",
        "plt.show()"
      ]
    },
    {
      "cell_type": "markdown",
      "metadata": {
        "id": "4P8VhrOvbsX9"
      },
      "source": [
        "### 2. Hashes\n",
        "Write a function `to_hash(L) `that takes a list of complex numbers `L` and returns an array of hashes of equal length, where each hash is of the form `{ \"re\": a, \"im\": b }`. Give the function a docstring and test it by converting a list of 25 numbers generated by your `rand_complex` function."
      ]
    },
    {
      "cell_type": "markdown",
      "metadata": {},
      "source": [
        "## Problem 2 Solution's Approach:\n",
        "\n",
        "\n",
        "<i>1. Call rand_complex() and obtain complex numbers whose real and imaginary parts need to be obtained.</i><br>\n",
        "<i>2. For an object C of type <b>complex</b>, use attributes C.real and C.imag to access the real and imaginary parts of the complex number.</i><br>\n",
        "<i>3. Populate the hash with the keys as the string \"re\" with value as C.real and for key \"im\" with value as C.imag. </i><br>\n",
        "<i>4. Iterate Steps 1-3 for all complex numbers that were generated and append them to the array. </i><br>\n",
        "<i>5. Print the array. </i>"
      ]
    },
    {
      "cell_type": "code",
      "execution_count": 14,
      "metadata": {},
      "outputs": [],
      "source": [
        "def to_hash(L):\n",
        "    \"\"\"\n",
        "    to_hash() returns a list of hashes where each hash has the real and imaginary part of the complex number in it!\n",
        "\n",
        "    args:\n",
        "        L  - Number of complex numbers whose real an \n",
        "    Returns:\n",
        "        list_of_hashes - Array of hashes\n",
        "    \"\"\"\n",
        "    com_nums = rand_complex(L)\n",
        "    list_of_hashes = []\n",
        "    for com_num in com_nums:\n",
        "        list_of_hashes.append({\"re\":com_num.real, \"im\":com_num.imag})\n",
        "    return list_of_hashes"
      ]
    },
    {
      "cell_type": "code",
      "execution_count": 15,
      "metadata": {},
      "outputs": [
        {
          "name": "stdout",
          "output_type": "stream",
          "text": [
            "Array of hashes: [{'re': -0.06483252772473196, 'im': -0.41510977303344465}, {'re': 0.04772207098561348, 'im': -0.4941784566134029}, {'re': 0.2299459812378215, 'im': -0.6349222423043267}, {'re': 0.10558664224034799, 'im': -0.15477689789277188}, {'re': 0.1835429634698666, 'im': -0.16128070046584814}, {'re': 0.3030487975801208, 'im': -0.15383413878350477}, {'re': 0.961988671594996, 'im': -0.21363130842174646}, {'re': 0.5990426374775046, 'im': 0.019579881604838027}, {'re': 0.47511743420640445, 'im': 0.1386169288156879}, {'re': 0.6930504595935297, 'im': 0.41080762060956466}, {'re': 0.003643757594284733, 'im': 0.003650143357421642}, {'re': 0.3808236205642798, 'im': 0.6450383948895821}, {'re': 0.22968783509939383, 'im': 0.792426178562907}, {'re': 0.02262220718045309, 'im': 0.7313403441627964}, {'re': -0.1410947531752058, 'im': 0.6301386781394226}, {'re': -0.15562062666390353, 'im': 0.3052427338390876}, {'re': -0.46613124524601574, 'im': 0.5286037980693863}, {'re': -0.5432562066072658, 'im': 0.3692095553676832}, {'re': -0.7437712862728175, 'im': 0.2678949676350852}, {'re': -0.7223075299226254, 'im': 0.06847582208520474}, {'re': -0.708762335002835, 'im': -0.11196732287046059}, {'re': -0.8753180842703462, 'im': -0.37823740388392474}, {'re': -0.10143944032029908, 'im': -0.07857838033122298}, {'re': -0.20243449851799752, 'im': -0.2605566096151306}, {'re': -0.14637544213778655, 'im': -0.3374125411607454}]\n"
          ]
        }
      ],
      "source": [
        "#Testing the function to_hash(L)\n",
        "print(\"Array of hashes:\",to_hash(25))"
      ]
    },
    {
      "cell_type": "markdown",
      "metadata": {
        "id": "FEzKpLUAbsX9"
      },
      "source": [
        "### 3. Matrices\n",
        "\n",
        "Write a function `lower_traingular(n)` that returns an $n \\times n$ numpy matrix with zeros on the upper diagonal, and ones on the diagonal and lower diagonal. For example, `lower_triangular(3)` would return\n",
        "\n",
        "```python\n",
        "array([[1, 0, 0],\n",
        "       [1, 1, 0],\n",
        "       [1, 1, 1]])\n",
        "```"
      ]
    },
    {
      "cell_type": "markdown",
      "metadata": {},
      "source": [
        "## Problem 3 Solution's Approach:\n",
        "\n",
        "<i>1. Accept the value n, through call by value. Intialise a n x n numpy matrix of zeros.</i><br>\n",
        "<i>2. Initialise a counter with the value 0.</i><br>\n",
        "<i>3. Run a <b>for loop</b>, increment the counter by one in each iteration.</i><br>\n",
        "<i>4. Each iteration corresponds to running through each row of the numpy matrix.</i><br>\n",
        "<i>5. Fill the row with <b>counter+1</b> number of 1s from the index 0 of the row.</i><br>\n",
        "<i>6. Do steps 3-5 until the counter reaches the value n.</i><br>\n",
        "<i>7. Print the n x n matrix.</i>"
      ]
    },
    {
      "cell_type": "code",
      "execution_count": 16,
      "metadata": {},
      "outputs": [],
      "source": [
        "import numpy as np\n",
        "def lower_triangular(n):\n",
        "    \"\"\"\n",
        "    args:\n",
        "        n - Number of rows/columns in the matrix\n",
        "    Returns:\n",
        "        array - Square numpy array\n",
        "    \"\"\"\n",
        "    array = np.zeros((n,n))\n",
        "    counter = 0\n",
        "    for i in range(n):\n",
        "        array[i][:counter+1] = 1\n",
        "        counter += 1 \n",
        "    return array"
      ]
    },
    {
      "cell_type": "code",
      "execution_count": 17,
      "metadata": {},
      "outputs": [
        {
          "data": {
            "text/plain": [
              "array([[1., 0., 0.],\n",
              "       [1., 1., 0.],\n",
              "       [1., 1., 1.]])"
            ]
          },
          "execution_count": 17,
          "metadata": {},
          "output_type": "execute_result"
        }
      ],
      "source": [
        "# Testing lower_triangular(n)\n",
        "lower_triangular(3)"
      ]
    },
    {
      "cell_type": "markdown",
      "metadata": {
        "id": "EI395_cGbsX-"
      },
      "source": [
        "### 4. Numpy\n",
        "\n",
        "Write a function `convolve(M,K)` that takes an $n \\times m$ matrix $M$ and a $3 \\times 3$ matrix $K$ (called the kernel) and returns their convolution as in [this diagram](https://encrypted-tbn0.gstatic.com/images?q=tbn:ANd9GcTYo2_VuAlQhfeEGJHva3WUlnSJLeE0ApYyjw&usqp=CAU).\n",
        "\n",
        "\n",
        "Please do not use any predefined convolution functions from numpy or scipy. Write your own. If the matrix $M$ is too small, your function should return a exception.\n",
        "\n",
        "You can read more about convolution in [this post](https://setosa.io/ev/image-kernels/).\n",
        "\n",
        "The matrix returned will have two fewer rows and two fewer columns than $M$. Test your function by making a $100 \\times 100$ matrix of zeros and ones that as an image look like the letter X and convolve it with the kernel\n",
        "\n",
        "$$\n",
        "K = \\frac{1}{16} \\begin{pmatrix}\n",
        "1 & 2 & 1 \\\\\n",
        "2 & 4 & 2 \\\\\n",
        "1 & 2 & 1\n",
        "\\end{pmatrix}\n",
        "$$\n",
        "\n",
        "Use `imshow` to display both images using subplots."
      ]
    },
    {
      "cell_type": "markdown",
      "metadata": {},
      "source": [
        "## Problem 4 solution's approach!\n",
        "\n",
        "<i>1. Accept the value for the variables $n$ (Number of rows) and $m$ (Number of columns) and initialise them with arbitrary values.</i><br>\n",
        "<i>2. Allocate memory for the 3 x 3 matrix and initialise them with arbitrary values.</i><br>\n",
        "<i>3. For skipping the part where manual entry of values for $n \\times m$ matrix needs to be done, I've decided to use the $random()$ function. Same applies to the kernel matrix.<i></br>\n",
        "<i>4. Using heuristics, the required values at specific indices of the bigger matrix will be chosen and multiplied and added on an element-wise basis to get the convolution results.</i><br>\n",
        "<i>5. The required demo of the convolution is performed and visualised using Matplotlib.</i>\n"
      ]
    },
    {
      "cell_type": "markdown",
      "metadata": {},
      "source": [
        "### Note: I used <b>Google's Bard</b> to figure out the for loop logic for multiplying and summing up the multiplicant matrix and multiplier matrix!"
      ]
    },
    {
      "cell_type": "code",
      "execution_count": 18,
      "metadata": {},
      "outputs": [],
      "source": [
        "def convolution(n,m):\n",
        "    \"\"\"\n",
        "    Function performs convolution between a n x m matrix and an 3 x 3 matrix.\n",
        "\n",
        "    args:\n",
        "        n - Number of rows\n",
        "        m - Number of columns\n",
        "    Returns:\n",
        "        result - Result of convolution\n",
        "    \"\"\"\n",
        "    try:\n",
        "        if(n<3 or m<3):\n",
        "            return Exception(\"Enter a reasonable value for the number of rows and columns for the multiplicant matrix!\")\n",
        "        mat_1 = np.random.rand(n,m)\n",
        "        kernel = np.random.rand(3,3)\n",
        "        result = np.zeros((n-3+1, m-3+1)) # Output shape of the convolved matrix will be (n-3+1, m-3+1)\n",
        "        for i in range(n-3+1): # Number of rows\n",
        "            for j in range(m-3+1): # Number of columns\n",
        "                result[i][j] = np.sum(mat_1[i:i+3, j:j+3] * kernel)\n",
        "        return result\n",
        "    except:\n",
        "        return Exception(\"Enter a reasonable value for the number of rows and columns for the multiplicant matrix!\")\n",
        "\n",
        "#Function for the test matrices!\n",
        "def convolution_2(mat_1, mat_2):\n",
        "    result = np.zeros((mat_1.shape[0]-3+1, mat_1.shape[1]-3+1)) # Output shape of the convolved matrix will be (n-3+1, n-3+1)\n",
        "    for i in range(mat_1.shape[0]-3+1):\n",
        "        for j in range(mat_1.shape[1]-3+1):\n",
        "            result[i][j] = np.sum(mat_1[i:i+3, j:j+3] * mat_2)\n",
        "    return result"
      ]
    },
    {
      "cell_type": "code",
      "execution_count": 19,
      "metadata": {},
      "outputs": [
        {
          "name": "stdout",
          "output_type": "stream",
          "text": [
            "Result of test convolution: \n",
            "[[0.375  0.25   0.0625 ... 0.0625 0.25   0.375 ]\n",
            " [0.25   0.375  0.25   ... 0.25   0.375  0.25  ]\n",
            " [0.0625 0.25   0.375  ... 0.375  0.25   0.0625]\n",
            " ...\n",
            " [0.0625 0.25   0.375  ... 0.375  0.25   0.0625]\n",
            " [0.25   0.375  0.25   ... 0.25   0.375  0.25  ]\n",
            " [0.375  0.25   0.0625 ... 0.0625 0.25   0.375 ]]\n"
          ]
        }
      ],
      "source": [
        "#Testing function\n",
        "large_zero_one_mat = np.zeros((100,100))\n",
        "large_zero_one_mat[np.arange(100),np.arange(100)] = 1\n",
        "counter=100\n",
        "for i in range(100):\n",
        "    large_zero_one_mat[i][counter-1]=1\n",
        "    counter-=1\n",
        "\n",
        "test_kernel = np.float16(1/16) * np.array([[1, 2, 1],\n",
        "                                  [2, 4, 2],\n",
        "                                  [1, 2, 1]])\n",
        "\n",
        "print(\"Result of test convolution: \")\n",
        "result = convolution_2(large_zero_one_mat, test_kernel)\n",
        "#print(result)\n",
        "print(result)"
      ]
    },
    {
      "cell_type": "code",
      "execution_count": 20,
      "metadata": {},
      "outputs": [
        {
          "data": {
            "image/png": "[encoded data removed]",
            "text/plain": [
              "<Figure size 4320x4320 with 3 Axes>"
            ]
          },
          "metadata": {
            "needs_background": "light"
          },
          "output_type": "display_data"
        }
      ],
      "source": [
        "#Plotting test matrices and their convolution results!\n",
        "fig, ax = plt.subplots(1,3,figsize=(60,60))\n",
        "ax[0].set_title(\"Diagonal matrix\",fontsize=100)\n",
        "ax[0].imshow(large_zero_one_mat*100)\n",
        "ax[1].set_title(\"Kernel matrix\",fontsize=100)\n",
        "ax[1].imshow(test_kernel*100)\n",
        "ax[2].set_title(\"Convolution result\",fontsize=100)\n",
        "ax[2].imshow(result*100)\n",
        "plt.show()"
      ]
    },
    {
      "cell_type": "markdown",
      "metadata": {
        "id": "iLaOdUyDbsX-"
      },
      "source": [
        "### 5. Symbolic Manipulation\n",
        "\n",
        "Use sympy to specify and solve the following equations for $x$.\n",
        "\n",
        "- $x^2 + 2x - 1 = 0$\n",
        "- $a x^2 + bx + c = 0$\n",
        "\n",
        "Also, evaluate the following integrals using sympy\n",
        "\n",
        "- $\\int x^2 dx$\n",
        "- $\\int x e^{6x} dx$\n",
        "- $\\int (3t+5)\\cos(\\frac{t}{4}) dt$"
      ]
    },
    {
      "cell_type": "markdown",
      "metadata": {},
      "source": [
        "## Problem 5 Solution's Approach:\n",
        "\n",
        "<i>1. Import sympy</i><br>\n",
        "<i>2. Use sympy's inbuilt solve() function to solve the quadratic equations.</i><br>"
      ]
    },
    {
      "cell_type": "markdown",
      "metadata": {},
      "source": [
        "### Solution for quadratic equations"
      ]
    },
    {
      "cell_type": "code",
      "execution_count": 21,
      "metadata": {},
      "outputs": [
        {
          "name": "stdout",
          "output_type": "stream",
          "text": [
            "Solution of equation 1:  [-1 + sqrt(2), -sqrt(2) - 1]\n",
            "Solution of equation 2:  [(-b + sqrt(-4*a*c + b**2))/(2*a), -(b + sqrt(-4*a*c + b**2))/(2*a)]\n"
          ]
        }
      ],
      "source": [
        "from sympy import *\n",
        "x= var('x')\n",
        "\n",
        "eqn_one_sols = solve(x**2+2*x-1,x)\n",
        "print(\"Solution of equation 1: \", eqn_one_sols)\n",
        "\n",
        "a = symbols('a', real = True, constant = True)\n",
        "b = symbols('b', real = True, constant = True)\n",
        "c = symbols('c', real = True, constant = True)\n",
        "\n",
        "eqn_two_sols = solve(a*(x**2)+b*x+c,x)\n",
        "print(\"Solution of equation 2: \", eqn_two_sols)"
      ]
    },
    {
      "cell_type": "markdown",
      "metadata": {},
      "source": [
        "### Evaluation of integrals"
      ]
    },
    {
      "cell_type": "code",
      "execution_count": 22,
      "metadata": {},
      "outputs": [
        {
          "name": "stdout",
          "output_type": "stream",
          "text": [
            "Evaluation of first integral:  x**3/3\n",
            "Evaluation of second integral:  (6*x - 1)*exp(6*x)/36\n",
            "Evaluation of second integral:  12*t*sin(t/4) + 20*sin(t/4) + 48*cos(t/4)\n"
          ]
        }
      ],
      "source": [
        "integral_1 = Integral(x**2)\n",
        "expr_intg = integral_1.doit()\n",
        "print(\"Evaluation of first integral: \", expr_intg)\n",
        "\n",
        "intg_2 = x*exp(6*x)\n",
        "integral_2 = Integral(intg_2)\n",
        "expr_intg_2 = integral_2.doit()\n",
        "print(\"Evaluation of second integral: \", expr_intg_2)\n",
        "\n",
        "t = var('t')\n",
        "intg_3 = (3*t+5)*cos(t/4)\n",
        "integral_3 = Integral(intg_3)\n",
        "expr_intg_3 = integral_3.doit()\n",
        "print(\"Evaluation of second integral: \", expr_intg_3)"
      ]
    },
    {
      "cell_type": "markdown",
      "metadata": {
        "id": "dYc7oYC5bsX_"
      },
      "source": [
        "### 6. Typesetting\n",
        "\n",
        "Use LaTeX to typeset the following equations.\n",
        "\n",
        "<img src=\"https://www.sciencealert.com/images/Equations_web.jpg\">\n"
      ]
    },
    {
      "cell_type": "markdown",
      "metadata": {},
      "source": [
        "## Solution for Problem 6"
      ]
    },
    {
      "cell_type": "markdown",
      "metadata": {},
      "source": [
        "### Used Microsoft 365 to do typset equation to LaTeX conversion!"
      ]
    },
    {
      "cell_type": "markdown",
      "metadata": {},
      "source": [
        "<i> 1. Pythagoras's Theorem   -   $$ a^2+b^2=\\ c^2 $$ </i><br>\n",
        "<i> 2. Logarithms             -   $$ \\log{xy}\\ =\\ \\log{x\\ +\\ \\log{y}} $$ </i><br>\n",
        "<i> 3. Calculus               -   $$ \\frac{df}{dt}\\ =\\ \\lim_{h\\ {\\rightarrow}0}{\\frac{f(t+h)\\ -\\ f(t)}{h}} $$ </i><br>\n",
        "<i> 4. Law of Gravity         -   $$ F\\ =\\ G\\frac{m_1m_2}{r^2} $$ </i><br>\n",
        "<i> 5. The Square Root of Minus One - $$ i^2=-1 $$ </i><br>\n",
        "<i> 6. Euler's Formula for Polyhedra - $$ V - E + F = 2 $$ </i><br>\n",
        "<i> 7. Normal Distribution           - $$ \\phi\\left(x\\right)=\\frac{1}{\\sqrt{2\\pi\\rho}}e^\\frac{\\left(x-\\mu\\right)^2}{2\\rho^2} $$ </i><br>\n",
        "<i> 8. Wave Equation                 - $$ \\frac{\\delta^2u}{\\delta t^2}\\ =\\ c^2\\frac{\\delta^2u}{\\delta x^2} $$ </i><br>\n",
        "<i> 9. Fourier Transform             - $$ f\\left(\\omega\\right)=\\int_{-\\infty}^{\\infty}{f\\left(x\\right)e^{2\\pi  i x\\omega}dx} $$ </i><br>\n",
        "<i> 10.Navier-Stokes Equation        - $$ \\rho\\left(\\frac{\\delta v}{\\delta t}+v.\\mathbf{\\nabla}v\\right) = -\\mathbf{\\nabla}p +\\mathbf{\\nabla}.\\mathbf{T}+\\mathbf{f} $$\n",
        "<i> 11.Maxwell's Equations           - $$ \\nabla.{\\mathbf{E}} =\\mathbf{0} $$   $$ \\nabla.{\\mathbf{H}} = \\mathbf{0} $$ \n",
        "                                       $$ \\nabla\\times{\\mathbf{E}}\\ =\\ -\\frac{1}{c}\\frac{\\delta \\mathbf{H}}{\\delta t} $$\n",
        "                                       $$ \\nabla\\times{\\mathbf{H}}\\ =\\ -\\frac{1}{c}\\frac{\\delta \\mathbf{E}}{\\delta t} $$ </i><br>\n",
        "<i> 12.Second Law of Thermodynamics  - $$ dS\\ \\geq\\ 0\\  $$ </i><br>\n",
        "<i> 13.Relativity                    - $$ E\\ =\\ mc^2 $$ </i><br>\n",
        "<i> 14. Schrodinger's Equation       - $$ ih\\frac{\\partial}{\\partial t}\\psi\\ =\\ H\\psi $$</i><br>\n",
        "<i> 15. Information Theory           - $$ H\\ =\\ -\\sum{p\\left(x\\right)\\log{p\\left(x\\right)}} $$</i><br>\n",
        "<i> 16. Chaos Theory                 - $$ x_{t+1}=\\ kx_t(1-x_t) $$ </i><br>\n",
        "<i> 17. Black-Scholes Equation       - $$ \\frac{1}{2}\\sigma^2S^2\\frac{\\delta^2V}{\\delta S^2}+rS\\frac{\\delta V}{\\delta S}+\\frac{\\delta V}{\\delta t}-rV\\ =0$$"
      ]
    }
  ],
  "metadata": {
    "colab": {
      "provenance": []
    },
    "kernelspec": {
      "display_name": "Python 3",
      "language": "python",
      "name": "python3"
    },
    "language_info": {
      "codemirror_mode": {
        "name": "ipython",
        "version": 3
      },
      "file_extension": ".py",
      "mimetype": "text/x-python",
      "name": "python",
      "nbconvert_exporter": "python",
      "pygments_lexer": "ipython3",
      "version": "3.9.12"
    }
  },
  "nbformat": 4,
  "nbformat_minor": 0
}
